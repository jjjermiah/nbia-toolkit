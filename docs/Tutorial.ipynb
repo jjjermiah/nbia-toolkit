{
 "cells": [
  {
   "cell_type": "markdown",
   "metadata": {},
   "source": [
    "# Setup \n",
    "\n",
    "By default the client will use the Public API with the Guest Login credentials.\n",
    "from the nbia which has access to all public data. \n",
    "\n",
    "To use your own credentials you can pass them in as parameters to the client using:\n",
    "\n",
    "``` python\n",
    "NBIAClient(\n",
    "    username=\"YOUR_USERNAME\", \n",
    "    password=\"YOUR_PASSWORD\", \n",
    "    log_level = [\"DEBUG\", \"INFO\", \"WARNING\", \"ERROR\", \"CRITICAL\"]\n",
    ")\n",
    "```"
   ]
  },
  {
   "cell_type": "code",
   "execution_count": 1,
   "metadata": {},
   "outputs": [
    {
     "name": "stderr",
     "output_type": "stream",
     "text": [
      "/Users/bhklab/Documents/GitHub/NBIA-toolkit/src/nbiatoolkit/nbia_cli.py:20: SyntaxWarning: invalid escape sequence '\\/'\n",
      "  f = \"\"\"\n"
     ]
    }
   ],
   "source": [
    "import nbiatoolkit\n",
    "from nbiatoolkit import NBIAClient\n",
    "from pprint import pprint\n",
    "\n",
    "# Instantiate the client. \n",
    "# NOTE: if using guest access, you dont have to provide the following, it will default to guest access\n",
    "client = NBIAClient(username = \"nbia_guest\", password = \"\", log_level='info')\n"
   ]
  },
  {
   "cell_type": "code",
   "execution_count": 2,
   "metadata": {},
   "outputs": [
    {
     "data": {
      "text/plain": [
       "'0.32.1'"
      ]
     },
     "execution_count": 2,
     "metadata": {},
     "output_type": "execute_result"
    }
   ],
   "source": [
    "# import nbiatoolkit \n",
    "nbiatoolkit.__version__"
   ]
  },
  {
   "cell_type": "markdown",
   "metadata": {},
   "source": [
    "# Return Types\n",
    "\n",
    "Most functions will by default return a list of dictionaries. If you would like to return a pandas DataFrame instead you can pass in the parameter `return_type`.\n",
    "\n",
    "Available options are made available through the `ReturnType` Enum which can be passed in as a parameter or alternatively, the string representation of the Enum value can be passed in as a string."
   ]
  },
  {
   "cell_type": "code",
   "execution_count": 5,
   "metadata": {},
   "outputs": [
    {
     "name": "stdout",
     "output_type": "stream",
     "text": [
      "[<ReturnType.LIST: 'list'>, <ReturnType.DATAFRAME: 'dataframe'>]\n"
     ]
    }
   ],
   "source": [
    "from nbiatoolkit.utils import ReturnType\n",
    "print(list(ReturnType))"
   ]
  },
  {
   "cell_type": "markdown",
   "metadata": {},
   "source": [
    "passing in `return_type=ReturnType.DATAFRAME` or `return_type=\"dataframe\"` will return a pandas DataFrame."
   ]
  },
  {
   "cell_type": "markdown",
   "metadata": {},
   "source": [
    "# Get Collection Methods"
   ]
  },
  {
   "cell_type": "markdown",
   "metadata": {},
   "source": [
    "### get list of collections (names only)\n",
    "``` python\n",
    "client.getCollections(\n",
    "    prefix: str = \"\",\n",
    "    return_type: ReturnType | str = ReturnType.LIST)\n",
    "```"
   ]
  },
  {
   "cell_type": "code",
   "execution_count": 6,
   "metadata": {},
   "outputs": [
    {
     "name": "stdout",
     "output_type": "stream",
     "text": [
      "[{'Collection': '4D-Lung'}, {'Collection': 'ACRIN-6698'}, {'Collection': 'ACRIN-Contralateral-Breast-MR'}, {'Collection': 'ACRIN-FLT-Breast'}, {'Collection': 'ACRIN-NSCLC-FDG-PET'}]\n"
     ]
    }
   ],
   "source": [
    "# To get all the collections:\n",
    "collections = client.getCollections()\n",
    "print(collections[0:5])"
   ]
  },
  {
   "cell_type": "code",
   "execution_count": 7,
   "metadata": {},
   "outputs": [
    {
     "name": "stdout",
     "output_type": "stream",
     "text": [
      "[{'Collection': 'TCGA-BLCA'}, {'Collection': 'TCGA-BRCA'}, {'Collection': 'TCGA-CESC'}, {'Collection': 'TCGA-COAD'}, {'Collection': 'TCGA-ESCA'}]\n"
     ]
    }
   ],
   "source": [
    "# To get all the collections with a prefix:\n",
    "collections = client.getCollections(prefix = \"TCGA\")\n",
    "print(collections[0:5])"
   ]
  },
  {
   "cell_type": "code",
   "execution_count": 13,
   "metadata": {},
   "outputs": [
    {
     "data": {
      "text/html": [
       "<div>\n",
       "<style scoped>\n",
       "    .dataframe tbody tr th:only-of-type {\n",
       "        vertical-align: middle;\n",
       "    }\n",
       "\n",
       "    .dataframe tbody tr th {\n",
       "        vertical-align: top;\n",
       "    }\n",
       "\n",
       "    .dataframe thead th {\n",
       "        text-align: right;\n",
       "    }\n",
       "</style>\n",
       "<table border=\"1\" class=\"dataframe\">\n",
       "  <thead>\n",
       "    <tr style=\"text-align: right;\">\n",
       "      <th></th>\n",
       "      <th>Collection</th>\n",
       "    </tr>\n",
       "  </thead>\n",
       "  <tbody>\n",
       "    <tr>\n",
       "      <th>0</th>\n",
       "      <td>TCGA-BLCA</td>\n",
       "    </tr>\n",
       "    <tr>\n",
       "      <th>1</th>\n",
       "      <td>TCGA-BRCA</td>\n",
       "    </tr>\n",
       "    <tr>\n",
       "      <th>2</th>\n",
       "      <td>TCGA-CESC</td>\n",
       "    </tr>\n",
       "    <tr>\n",
       "      <th>3</th>\n",
       "      <td>TCGA-COAD</td>\n",
       "    </tr>\n",
       "    <tr>\n",
       "      <th>4</th>\n",
       "      <td>TCGA-ESCA</td>\n",
       "    </tr>\n",
       "  </tbody>\n",
       "</table>\n",
       "</div>"
      ],
      "text/plain": [
       "  Collection\n",
       "0  TCGA-BLCA\n",
       "1  TCGA-BRCA\n",
       "2  TCGA-CESC\n",
       "3  TCGA-COAD\n",
       "4  TCGA-ESCA"
      ]
     },
     "execution_count": 13,
     "metadata": {},
     "output_type": "execute_result"
    }
   ],
   "source": [
    "# To get the same but as a pandas dataframe:\n",
    "collections_df = client.getCollections(prefix = \"TCGA\", return_type=ReturnType.DATAFRAME)\n",
    "collections_df.head()"
   ]
  },
  {
   "cell_type": "markdown",
   "metadata": {},
   "source": [
    "### get Collection Description\n",
    "\n",
    "``` python\n",
    "getCollectionDescriptions(\n",
    "    collectionName: str,      # (required)\n",
    "    return_type: ReturnType | str = ReturnType.LIST\n",
    ")\n",
    "```"
   ]
  },
  {
   "cell_type": "code",
   "execution_count": 14,
   "metadata": {},
   "outputs": [
    {
     "name": "stdout",
     "output_type": "stream",
     "text": [
      "[{'collectionName': 'TCGA-BLCA',\n",
      "  'description': 'The Cancer Genome Atlas-Bladder Endothelial Carcinoma '\n",
      "                 '(TCGA-BLCA) data collection is part of a larger effort to '\n",
      "                 'enhance the TCGA http://cancergenome.nih.gov/ data set with '\n",
      "                 'characterized radiological images. The Cancer Imaging '\n",
      "                 'Program (CIP), with the cooperation of several of the TCGA '\n",
      "                 'tissue-contributing institutions, has archived a large '\n",
      "                 'portion of the radiological images of the '\n",
      "                 'genetically-analyzed BLCA cases. Please see the TCGA-BLCA '\n",
      "                 'page to learn more about the images and to obtain any '\n",
      "                 'supporting metadata for this collection.',\n",
      "  'descriptionURI': 'https://doi.org/10.7937/K9/TCIA.2016.8LNG8XDR',\n",
      "  'lastUpdated': '2023-03-16'}]\n"
     ]
    }
   ],
   "source": [
    "pprint(client.getCollectionDescriptions(\"TCGA-BLCA\"))"
   ]
  },
  {
   "cell_type": "code",
   "execution_count": 16,
   "metadata": {},
   "outputs": [
    {
     "data": {
      "text/html": [
       "<div>\n",
       "<style scoped>\n",
       "    .dataframe tbody tr th:only-of-type {\n",
       "        vertical-align: middle;\n",
       "    }\n",
       "\n",
       "    .dataframe tbody tr th {\n",
       "        vertical-align: top;\n",
       "    }\n",
       "\n",
       "    .dataframe thead th {\n",
       "        text-align: right;\n",
       "    }\n",
       "</style>\n",
       "<table border=\"1\" class=\"dataframe\">\n",
       "  <thead>\n",
       "    <tr style=\"text-align: right;\">\n",
       "      <th></th>\n",
       "      <th>collectionName</th>\n",
       "      <th>description</th>\n",
       "      <th>descriptionURI</th>\n",
       "      <th>lastUpdated</th>\n",
       "    </tr>\n",
       "  </thead>\n",
       "  <tbody>\n",
       "    <tr>\n",
       "      <th>0</th>\n",
       "      <td>TCGA-BLCA</td>\n",
       "      <td>The Cancer Genome Atlas-Bladder Endothelial Ca...</td>\n",
       "      <td>https://doi.org/10.7937/K9/TCIA.2016.8LNG8XDR</td>\n",
       "      <td>2023-03-16</td>\n",
       "    </tr>\n",
       "  </tbody>\n",
       "</table>\n",
       "</div>"
      ],
      "text/plain": [
       "  collectionName                                        description  \\\n",
       "0      TCGA-BLCA  The Cancer Genome Atlas-Bladder Endothelial Ca...   \n",
       "\n",
       "                                  descriptionURI lastUpdated  \n",
       "0  https://doi.org/10.7937/K9/TCIA.2016.8LNG8XDR  2023-03-16  "
      ]
     },
     "execution_count": 16,
     "metadata": {},
     "output_type": "execute_result"
    }
   ],
   "source": [
    "client.getCollectionDescriptions(\"TCGA-BLCA\", ReturnType.DATAFRAME)"
   ]
  },
  {
   "cell_type": "markdown",
   "metadata": {},
   "source": [
    "### get Counts of Patients for each collection\n",
    "``` python\n",
    "getCollectionPatientCount(\n",
    "    prefx: str = \"\",\n",
    "    return_type: ReturnType | str = ReturnType.LIST\n",
    ")\n",
    "```"
   ]
  },
  {
   "cell_type": "code",
   "execution_count": 18,
   "metadata": {},
   "outputs": [
    {
     "name": "stdout",
     "output_type": "stream",
     "text": [
      "[{'count': '20', 'criteria': '4D-Lung'},\n",
      " {'count': '385', 'criteria': 'ACRIN-6698'},\n",
      " {'count': '984', 'criteria': 'ACRIN-Contralateral-Breast-MR'},\n",
      " {'count': '83', 'criteria': 'ACRIN-FLT-Breast'},\n",
      " {'count': '242', 'criteria': 'ACRIN-NSCLC-FDG-PET'}]\n"
     ]
    }
   ],
   "source": [
    "collectionsPatientCount = client.getCollectionPatientCount()\n",
    "pprint(collectionsPatientCount[0:5])"
   ]
  },
  {
   "cell_type": "code",
   "execution_count": 19,
   "metadata": {},
   "outputs": [
    {
     "name": "stdout",
     "output_type": "stream",
     "text": [
      "[{'count': '120', 'criteria': 'TCGA-BLCA'},\n",
      " {'count': '139', 'criteria': 'TCGA-BRCA'},\n",
      " {'count': '54', 'criteria': 'TCGA-CESC'},\n",
      " {'count': '25', 'criteria': 'TCGA-COAD'},\n",
      " {'count': '16', 'criteria': 'TCGA-ESCA'},\n",
      " {'count': '15', 'criteria': 'TCGA-KICH'},\n",
      " {'count': '267', 'criteria': 'TCGA-KIRC'},\n",
      " {'count': '33', 'criteria': 'TCGA-KIRP'},\n",
      " {'count': '97', 'criteria': 'TCGA-LIHC'},\n",
      " {'count': '69', 'criteria': 'TCGA-LUAD'},\n",
      " {'count': '37', 'criteria': 'TCGA-LUSC'},\n",
      " {'count': '143', 'criteria': 'TCGA-OV'},\n",
      " {'count': '14', 'criteria': 'TCGA-PRAD'},\n",
      " {'count': '3', 'criteria': 'TCGA-READ'},\n",
      " {'count': '5', 'criteria': 'TCGA-SARC'},\n",
      " {'count': '46', 'criteria': 'TCGA-STAD'},\n",
      " {'count': '6', 'criteria': 'TCGA-THCA'},\n",
      " {'count': '65', 'criteria': 'TCGA-UCEC'}]\n"
     ]
    },
    {
     "ename": "KeyError",
     "evalue": "'PatientCount'",
     "output_type": "error",
     "traceback": [
      "\u001b[0;31m---------------------------------------------------------------------------\u001b[0m",
      "\u001b[0;31mKeyError\u001b[0m                                  Traceback (most recent call last)",
      "Cell \u001b[0;32mIn[19], line 6\u001b[0m\n\u001b[1;32m      3\u001b[0m pprint(collectionsPatientCount)\n\u001b[1;32m      5\u001b[0m \u001b[38;5;66;03m# get the collection with max PatientCount\u001b[39;00m\n\u001b[0;32m----> 6\u001b[0m \u001b[38;5;28mprint\u001b[39m(\u001b[38;5;124m\"\u001b[39m\u001b[38;5;124mCollection with max PatientCount: \u001b[39m\u001b[38;5;124m\"\u001b[39m, \u001b[38;5;28;43mmax\u001b[39;49m\u001b[43m(\u001b[49m\u001b[43mcollectionsPatientCount\u001b[49m\u001b[43m,\u001b[49m\u001b[43m \u001b[49m\u001b[43mkey\u001b[49m\u001b[38;5;241;43m=\u001b[39;49m\u001b[38;5;28;43;01mlambda\u001b[39;49;00m\u001b[43m \u001b[49m\u001b[43mx\u001b[49m\u001b[43m:\u001b[49m\u001b[43mx\u001b[49m\u001b[43m[\u001b[49m\u001b[38;5;124;43m'\u001b[39;49m\u001b[38;5;124;43mPatientCount\u001b[39;49m\u001b[38;5;124;43m'\u001b[39;49m\u001b[43m]\u001b[49m\u001b[43m)\u001b[49m)\n",
      "Cell \u001b[0;32mIn[19], line 6\u001b[0m, in \u001b[0;36m<lambda>\u001b[0;34m(x)\u001b[0m\n\u001b[1;32m      3\u001b[0m pprint(collectionsPatientCount)\n\u001b[1;32m      5\u001b[0m \u001b[38;5;66;03m# get the collection with max PatientCount\u001b[39;00m\n\u001b[0;32m----> 6\u001b[0m \u001b[38;5;28mprint\u001b[39m(\u001b[38;5;124m\"\u001b[39m\u001b[38;5;124mCollection with max PatientCount: \u001b[39m\u001b[38;5;124m\"\u001b[39m, \u001b[38;5;28mmax\u001b[39m(collectionsPatientCount, key\u001b[38;5;241m=\u001b[39m\u001b[38;5;28;01mlambda\u001b[39;00m x:\u001b[43mx\u001b[49m\u001b[43m[\u001b[49m\u001b[38;5;124;43m'\u001b[39;49m\u001b[38;5;124;43mPatientCount\u001b[39;49m\u001b[38;5;124;43m'\u001b[39;49m\u001b[43m]\u001b[49m))\n",
      "\u001b[0;31mKeyError\u001b[0m: 'PatientCount'"
     ]
    }
   ],
   "source": [
    "# use prefix to get the patient count for a specific collection and then find the collection with max patient count\n",
    "collectionsPatientCount = client.getCollectionPatientCount(prefix=\"TCGA\")\n",
    "pprint(collectionsPatientCount)\n",
    "\n",
    "# get the collection with max PatientCount\n",
    "print(\"Collection with max PatientCount: \", max(collectionsPatientCount, key=lambda x: x['PatientCount']))"
   ]
  },
  {
   "cell_type": "code",
   "execution_count": 21,
   "metadata": {},
   "outputs": [
    {
     "data": {
      "text/html": [
       "<div>\n",
       "<style scoped>\n",
       "    .dataframe tbody tr th:only-of-type {\n",
       "        vertical-align: middle;\n",
       "    }\n",
       "\n",
       "    .dataframe tbody tr th {\n",
       "        vertical-align: top;\n",
       "    }\n",
       "\n",
       "    .dataframe thead th {\n",
       "        text-align: right;\n",
       "    }\n",
       "</style>\n",
       "<table border=\"1\" class=\"dataframe\">\n",
       "  <thead>\n",
       "    <tr style=\"text-align: right;\">\n",
       "      <th></th>\n",
       "      <th>criteria</th>\n",
       "      <th>count</th>\n",
       "    </tr>\n",
       "  </thead>\n",
       "  <tbody>\n",
       "    <tr>\n",
       "      <th>0</th>\n",
       "      <td>TCGA-BLCA</td>\n",
       "      <td>120</td>\n",
       "    </tr>\n",
       "    <tr>\n",
       "      <th>1</th>\n",
       "      <td>TCGA-BRCA</td>\n",
       "      <td>139</td>\n",
       "    </tr>\n",
       "    <tr>\n",
       "      <th>2</th>\n",
       "      <td>TCGA-CESC</td>\n",
       "      <td>54</td>\n",
       "    </tr>\n",
       "    <tr>\n",
       "      <th>3</th>\n",
       "      <td>TCGA-COAD</td>\n",
       "      <td>25</td>\n",
       "    </tr>\n",
       "    <tr>\n",
       "      <th>4</th>\n",
       "      <td>TCGA-ESCA</td>\n",
       "      <td>16</td>\n",
       "    </tr>\n",
       "    <tr>\n",
       "      <th>5</th>\n",
       "      <td>TCGA-KICH</td>\n",
       "      <td>15</td>\n",
       "    </tr>\n",
       "    <tr>\n",
       "      <th>6</th>\n",
       "      <td>TCGA-KIRC</td>\n",
       "      <td>267</td>\n",
       "    </tr>\n",
       "    <tr>\n",
       "      <th>7</th>\n",
       "      <td>TCGA-KIRP</td>\n",
       "      <td>33</td>\n",
       "    </tr>\n",
       "    <tr>\n",
       "      <th>8</th>\n",
       "      <td>TCGA-LIHC</td>\n",
       "      <td>97</td>\n",
       "    </tr>\n",
       "    <tr>\n",
       "      <th>9</th>\n",
       "      <td>TCGA-LUAD</td>\n",
       "      <td>69</td>\n",
       "    </tr>\n",
       "    <tr>\n",
       "      <th>10</th>\n",
       "      <td>TCGA-LUSC</td>\n",
       "      <td>37</td>\n",
       "    </tr>\n",
       "    <tr>\n",
       "      <th>11</th>\n",
       "      <td>TCGA-OV</td>\n",
       "      <td>143</td>\n",
       "    </tr>\n",
       "    <tr>\n",
       "      <th>12</th>\n",
       "      <td>TCGA-PRAD</td>\n",
       "      <td>14</td>\n",
       "    </tr>\n",
       "    <tr>\n",
       "      <th>13</th>\n",
       "      <td>TCGA-READ</td>\n",
       "      <td>3</td>\n",
       "    </tr>\n",
       "    <tr>\n",
       "      <th>14</th>\n",
       "      <td>TCGA-SARC</td>\n",
       "      <td>5</td>\n",
       "    </tr>\n",
       "    <tr>\n",
       "      <th>15</th>\n",
       "      <td>TCGA-STAD</td>\n",
       "      <td>46</td>\n",
       "    </tr>\n",
       "    <tr>\n",
       "      <th>16</th>\n",
       "      <td>TCGA-THCA</td>\n",
       "      <td>6</td>\n",
       "    </tr>\n",
       "    <tr>\n",
       "      <th>17</th>\n",
       "      <td>TCGA-UCEC</td>\n",
       "      <td>65</td>\n",
       "    </tr>\n",
       "  </tbody>\n",
       "</table>\n",
       "</div>"
      ],
      "text/plain": [
       "     criteria count\n",
       "0   TCGA-BLCA   120\n",
       "1   TCGA-BRCA   139\n",
       "2   TCGA-CESC    54\n",
       "3   TCGA-COAD    25\n",
       "4   TCGA-ESCA    16\n",
       "5   TCGA-KICH    15\n",
       "6   TCGA-KIRC   267\n",
       "7   TCGA-KIRP    33\n",
       "8   TCGA-LIHC    97\n",
       "9   TCGA-LUAD    69\n",
       "10  TCGA-LUSC    37\n",
       "11    TCGA-OV   143\n",
       "12  TCGA-PRAD    14\n",
       "13  TCGA-READ     3\n",
       "14  TCGA-SARC     5\n",
       "15  TCGA-STAD    46\n",
       "16  TCGA-THCA     6\n",
       "17  TCGA-UCEC    65"
      ]
     },
     "execution_count": 21,
     "metadata": {},
     "output_type": "execute_result"
    }
   ],
   "source": [
    "client.getCollectionPatientCount(prefix=\"TCGA\", return_type=ReturnType.DATAFRAME)"
   ]
  },
  {
   "cell_type": "markdown",
   "metadata": {},
   "source": [
    "### get Counts of Patients grouped by Body Parts\n",
    "``` python\n",
    "getBodyPartCounts(\n",
    "    collection: str = \"\", \n",
    "    modality: str = \"\",\n",
    "    return_type: ReturnType | str = ReturnType.LIST\n",
    ")"
   ]
  },
  {
   "cell_type": "code",
   "execution_count": 22,
   "metadata": {},
   "outputs": [
    {
     "name": "stdout",
     "output_type": "stream",
     "text": [
      "Total Number of body parts:60\n",
      "First 5 body parts:\n",
      "[{'count': '7839', 'criteria': 'NOT SPECIFIED'},\n",
      " {'count': '1731', 'criteria': 'ABDOMEN'},\n",
      " {'count': '2', 'criteria': 'ABDOMEN CAVIT'},\n",
      " {'count': '2', 'criteria': 'ABDOMENPELVIC'},\n",
      " {'count': '50', 'criteria': 'ABDOMENPELVIS'}]\n"
     ]
    }
   ],
   "source": [
    "bodypart_count = client.getBodyPartCounts()\n",
    "print(\"Total Number of body parts:\" + str(len(bodypart_count)))\n",
    "\n",
    "print(\"First 5 body parts:\")\n",
    "pprint(bodypart_count[0:5])"
   ]
  },
  {
   "cell_type": "code",
   "execution_count": 25,
   "metadata": {},
   "outputs": [
    {
     "name": "stdout",
     "output_type": "stream",
     "text": [
      "Total Number of body parts:11\n"
     ]
    },
    {
     "data": {
      "text/html": [
       "<div>\n",
       "<style scoped>\n",
       "    .dataframe tbody tr th:only-of-type {\n",
       "        vertical-align: middle;\n",
       "    }\n",
       "\n",
       "    .dataframe tbody tr th {\n",
       "        vertical-align: top;\n",
       "    }\n",
       "\n",
       "    .dataframe thead th {\n",
       "        text-align: right;\n",
       "    }\n",
       "</style>\n",
       "<table border=\"1\" class=\"dataframe\">\n",
       "  <thead>\n",
       "    <tr style=\"text-align: right;\">\n",
       "      <th></th>\n",
       "      <th>criteria</th>\n",
       "      <th>count</th>\n",
       "    </tr>\n",
       "  </thead>\n",
       "  <tbody>\n",
       "    <tr>\n",
       "      <th>0</th>\n",
       "      <td>NOT SPECIFIED</td>\n",
       "      <td>239</td>\n",
       "    </tr>\n",
       "    <tr>\n",
       "      <th>1</th>\n",
       "      <td>ABDOMEN</td>\n",
       "      <td>91</td>\n",
       "    </tr>\n",
       "    <tr>\n",
       "      <th>2</th>\n",
       "      <td>ABDOMENPELVIS</td>\n",
       "      <td>2</td>\n",
       "    </tr>\n",
       "    <tr>\n",
       "      <th>3</th>\n",
       "      <td>BRAIN W/WO_AH32</td>\n",
       "      <td>1</td>\n",
       "    </tr>\n",
       "    <tr>\n",
       "      <th>4</th>\n",
       "      <td>CHEST</td>\n",
       "      <td>124</td>\n",
       "    </tr>\n",
       "    <tr>\n",
       "      <th>5</th>\n",
       "      <td>CHEST (THORAX)</td>\n",
       "      <td>1</td>\n",
       "    </tr>\n",
       "    <tr>\n",
       "      <th>6</th>\n",
       "      <td>CHESTABDOMEN</td>\n",
       "      <td>1</td>\n",
       "    </tr>\n",
       "    <tr>\n",
       "      <th>7</th>\n",
       "      <td>CHESTABDPELVIS</td>\n",
       "      <td>1</td>\n",
       "    </tr>\n",
       "    <tr>\n",
       "      <th>8</th>\n",
       "      <td>HEAD</td>\n",
       "      <td>1</td>\n",
       "    </tr>\n",
       "    <tr>\n",
       "      <th>9</th>\n",
       "      <td>OUTSIDE FIL</td>\n",
       "      <td>1</td>\n",
       "    </tr>\n",
       "    <tr>\n",
       "      <th>10</th>\n",
       "      <td>THORAX</td>\n",
       "      <td>2</td>\n",
       "    </tr>\n",
       "  </tbody>\n",
       "</table>\n",
       "</div>"
      ],
      "text/plain": [
       "           criteria count\n",
       "0     NOT SPECIFIED   239\n",
       "1           ABDOMEN    91\n",
       "2     ABDOMENPELVIS     2\n",
       "3   BRAIN W/WO_AH32     1\n",
       "4             CHEST   124\n",
       "5   CHEST (THORAX)      1\n",
       "6      CHESTABDOMEN     1\n",
       "7    CHESTABDPELVIS     1\n",
       "8              HEAD     1\n",
       "9       OUTSIDE FIL     1\n",
       "10           THORAX     2"
      ]
     },
     "execution_count": 25,
     "metadata": {},
     "output_type": "execute_result"
    }
   ],
   "source": [
    "bodypart_count = client.getBodyPartCounts(Collection = 'ACRIN-NSCLC-FDG-PET', return_type=ReturnType.DATAFRAME)\n",
    "print(\"Total Number of body parts:\" + str(len(bodypart_count)))\n",
    "bodypart_count"
   ]
  },
  {
   "cell_type": "code",
   "execution_count": 27,
   "metadata": {},
   "outputs": [
    {
     "name": "stdout",
     "output_type": "stream",
     "text": [
      "Total Number of body parts:5\n",
      "Number of patients for each body part in 4D-Lung collection:\n"
     ]
    },
    {
     "data": {
      "text/html": [
       "<div>\n",
       "<style scoped>\n",
       "    .dataframe tbody tr th:only-of-type {\n",
       "        vertical-align: middle;\n",
       "    }\n",
       "\n",
       "    .dataframe tbody tr th {\n",
       "        vertical-align: top;\n",
       "    }\n",
       "\n",
       "    .dataframe thead th {\n",
       "        text-align: right;\n",
       "    }\n",
       "</style>\n",
       "<table border=\"1\" class=\"dataframe\">\n",
       "  <thead>\n",
       "    <tr style=\"text-align: right;\">\n",
       "      <th></th>\n",
       "      <th>criteria</th>\n",
       "      <th>count</th>\n",
       "    </tr>\n",
       "  </thead>\n",
       "  <tbody>\n",
       "    <tr>\n",
       "      <th>0</th>\n",
       "      <td>NOT SPECIFIED</td>\n",
       "      <td>194</td>\n",
       "    </tr>\n",
       "    <tr>\n",
       "      <th>1</th>\n",
       "      <td>ABDOMEN</td>\n",
       "      <td>11</td>\n",
       "    </tr>\n",
       "    <tr>\n",
       "      <th>2</th>\n",
       "      <td>CHEST</td>\n",
       "      <td>54</td>\n",
       "    </tr>\n",
       "    <tr>\n",
       "      <th>3</th>\n",
       "      <td>HEART</td>\n",
       "      <td>2</td>\n",
       "    </tr>\n",
       "    <tr>\n",
       "      <th>4</th>\n",
       "      <td>THORAX</td>\n",
       "      <td>1</td>\n",
       "    </tr>\n",
       "  </tbody>\n",
       "</table>\n",
       "</div>"
      ],
      "text/plain": [
       "        criteria count\n",
       "0  NOT SPECIFIED   194\n",
       "1        ABDOMEN    11\n",
       "2          CHEST    54\n",
       "3          HEART     2\n",
       "4         THORAX     1"
      ]
     },
     "execution_count": 27,
     "metadata": {},
     "output_type": "execute_result"
    }
   ],
   "source": [
    "bodypart_count = client.getBodyPartCounts(Collection = 'NSCLC Radiogenomics', Modality='CT', return_type=ReturnType.DATAFRAME)\n",
    "print(\"Total Number of body parts:\" + str(len(bodypart_count)))\n",
    "\n",
    "print(\"Number of patients for each body part in 4D-Lung collection:\")\n",
    "bodypart_count"
   ]
  },
  {
   "cell_type": "markdown",
   "metadata": {},
   "source": [
    "# Get Patient Methods"
   ]
  },
  {
   "cell_type": "markdown",
   "metadata": {},
   "source": [
    "### getPatients\n",
    "``` python\n",
    "getPatients(\n",
    "    Collection: str = \"\",   # (optional)\n",
    "    return_type: ReturnType | str = ReturnType.LIST\n",
    ")\n",
    "````"
   ]
  },
  {
   "cell_type": "code",
   "execution_count": 28,
   "metadata": {},
   "outputs": [
    {
     "name": "stdout",
     "output_type": "stream",
     "text": [
      "Total patients in TCGA-BLCA: 120\n",
      "[{'Collection': 'TCGA-BLCA',\n",
      "  'EthnicGroup': '1',\n",
      "  'PatientId': 'TCGA-CU-A3QU',\n",
      "  'PatientName': 'TCGA-CU-A3QU',\n",
      "  'PatientSex': 'M',\n",
      "  'Phantom': 'NO',\n",
      "  'SpeciesCode': '337915000',\n",
      "  'SpeciesDescription': 'Homo sapiens'},\n",
      " {'Collection': 'TCGA-BLCA',\n",
      "  'EthnicGroup': '1',\n",
      "  'PatientId': 'TCGA-CU-A3KJ',\n",
      "  'PatientName': 'TCGA-CU-A3KJ',\n",
      "  'PatientSex': 'M',\n",
      "  'Phantom': 'NO',\n",
      "  'SpeciesCode': '337915000',\n",
      "  'SpeciesDescription': 'Homo sapiens'}]\n"
     ]
    }
   ],
   "source": [
    "patients = client.getPatients(Collection = \"TCGA-BLCA\")\n",
    "print(f\"Total patients in TCGA-BLCA: {len(patients)}\")\n",
    "pprint(patients[0:2])"
   ]
  },
  {
   "cell_type": "code",
   "execution_count": 30,
   "metadata": {},
   "outputs": [
    {
     "name": "stdout",
     "output_type": "stream",
     "text": [
      "Total patients in NSCLC-Radiomics: 422\n"
     ]
    },
    {
     "data": {
      "text/html": [
       "<div>\n",
       "<style scoped>\n",
       "    .dataframe tbody tr th:only-of-type {\n",
       "        vertical-align: middle;\n",
       "    }\n",
       "\n",
       "    .dataframe tbody tr th {\n",
       "        vertical-align: top;\n",
       "    }\n",
       "\n",
       "    .dataframe thead th {\n",
       "        text-align: right;\n",
       "    }\n",
       "</style>\n",
       "<table border=\"1\" class=\"dataframe\">\n",
       "  <thead>\n",
       "    <tr style=\"text-align: right;\">\n",
       "      <th></th>\n",
       "      <th>PatientId</th>\n",
       "      <th>PatientName</th>\n",
       "      <th>PatientSex</th>\n",
       "      <th>Collection</th>\n",
       "      <th>Phantom</th>\n",
       "      <th>SpeciesCode</th>\n",
       "      <th>SpeciesDescription</th>\n",
       "    </tr>\n",
       "  </thead>\n",
       "  <tbody>\n",
       "    <tr>\n",
       "      <th>0</th>\n",
       "      <td>LUNG1-001</td>\n",
       "      <td>LUNG1-001</td>\n",
       "      <td>M</td>\n",
       "      <td>NSCLC-Radiomics</td>\n",
       "      <td>NO</td>\n",
       "      <td>337915000</td>\n",
       "      <td>Homo sapiens</td>\n",
       "    </tr>\n",
       "    <tr>\n",
       "      <th>1</th>\n",
       "      <td>LUNG1-007</td>\n",
       "      <td>LUNG1-007</td>\n",
       "      <td>M</td>\n",
       "      <td>NSCLC-Radiomics</td>\n",
       "      <td>NO</td>\n",
       "      <td>337915000</td>\n",
       "      <td>Homo sapiens</td>\n",
       "    </tr>\n",
       "    <tr>\n",
       "      <th>2</th>\n",
       "      <td>LUNG1-029</td>\n",
       "      <td>LUNG1-029</td>\n",
       "      <td>F</td>\n",
       "      <td>NSCLC-Radiomics</td>\n",
       "      <td>NO</td>\n",
       "      <td>337915000</td>\n",
       "      <td>Homo sapiens</td>\n",
       "    </tr>\n",
       "    <tr>\n",
       "      <th>3</th>\n",
       "      <td>LUNG1-036</td>\n",
       "      <td>LUNG1-036</td>\n",
       "      <td>F</td>\n",
       "      <td>NSCLC-Radiomics</td>\n",
       "      <td>NO</td>\n",
       "      <td>337915000</td>\n",
       "      <td>Homo sapiens</td>\n",
       "    </tr>\n",
       "    <tr>\n",
       "      <th>4</th>\n",
       "      <td>LUNG1-056</td>\n",
       "      <td>LUNG1-056</td>\n",
       "      <td>F</td>\n",
       "      <td>NSCLC-Radiomics</td>\n",
       "      <td>NO</td>\n",
       "      <td>337915000</td>\n",
       "      <td>Homo sapiens</td>\n",
       "    </tr>\n",
       "  </tbody>\n",
       "</table>\n",
       "</div>"
      ],
      "text/plain": [
       "   PatientId PatientName PatientSex       Collection Phantom SpeciesCode  \\\n",
       "0  LUNG1-001   LUNG1-001          M  NSCLC-Radiomics      NO   337915000   \n",
       "1  LUNG1-007   LUNG1-007          M  NSCLC-Radiomics      NO   337915000   \n",
       "2  LUNG1-029   LUNG1-029          F  NSCLC-Radiomics      NO   337915000   \n",
       "3  LUNG1-036   LUNG1-036          F  NSCLC-Radiomics      NO   337915000   \n",
       "4  LUNG1-056   LUNG1-056          F  NSCLC-Radiomics      NO   337915000   \n",
       "\n",
       "  SpeciesDescription  \n",
       "0       Homo sapiens  \n",
       "1       Homo sapiens  \n",
       "2       Homo sapiens  \n",
       "3       Homo sapiens  \n",
       "4       Homo sapiens  "
      ]
     },
     "execution_count": 30,
     "metadata": {},
     "output_type": "execute_result"
    }
   ],
   "source": [
    "patients_df = client.getPatients(Collection = \"NSCLC-Radiomics\", return_type=ReturnType.DATAFRAME)\n",
    "print(f\"Total patients in NSCLC-Radiomics: {len(patients_df)}\")\n",
    "patients_df.head()"
   ]
  },
  {
   "cell_type": "markdown",
   "metadata": {},
   "source": [
    "### getPatientsByCollectionAndModality\n",
    "``` python\n",
    "getPatientsByCollectionAndModality(\n",
    "    Collection: str,   # (required)\n",
    "    Modality: str,     # (required)\n",
    "    return_type: ReturnType | str = ReturnType.LIST\n",
    ")\n",
    "```"
   ]
  },
  {
   "cell_type": "code",
   "execution_count": 31,
   "metadata": {},
   "outputs": [
    {
     "name": "stdout",
     "output_type": "stream",
     "text": [
      "Total patients in TCGA-BLCA with modality CT: 107\n",
      "[{'PatientId': 'TCGA-CU-A3QU'},\n",
      " {'PatientId': 'TCGA-CU-A3KJ'},\n",
      " {'PatientId': 'TCGA-CU-A0YR'},\n",
      " {'PatientId': 'TCGA-CU-A0YO'},\n",
      " {'PatientId': 'TCGA-CU-A3YL'}]\n"
     ]
    }
   ],
   "source": [
    "patients = client.getPatientsByCollectionAndModality(Collection=\"TCGA-BLCA\", Modality=\"CT\")\n",
    "print(f\"Total patients in TCGA-BLCA with modality CT: {len(patients)}\")\n",
    "pprint(patients[0:5])"
   ]
  },
  {
   "cell_type": "markdown",
   "metadata": {},
   "source": [
    "### getNewPatients In Collection\n",
    "\n",
    "``` python\n",
    "getNewPatients(\n",
    "    Collection: str,   # (required)\n",
    "    Date: str,      # (required) accepted formats:\n",
    "                    # \"%Y-%m-%d\", \"%Y/%m/%d\", \"%Y%m%d\", \n",
    "                    # \"%m/%d/%Y\", \"%d/%m/%Y\", \"%d-%m-%Y\"\n",
    ")\n",
    "```"
   ]
  },
  {
   "cell_type": "code",
   "execution_count": 3,
   "metadata": {},
   "outputs": [
    {
     "name": "stdout",
     "output_type": "stream",
     "text": [
      "Total new patients in TCGA-BLCA after 2019-01-01: 15\n",
      "[{'Collection': 'TCGA-BLCA',\n",
      "  'PatientId': 'TCGA-4Z-AA86',\n",
      "  'PatientName': 'TCGA-4Z-AA86',\n",
      "  'PatientSex': 'M',\n",
      "  'Phantom': 'NO',\n",
      "  'SpeciesCode': '337915000',\n",
      "  'SpeciesDescription': 'Homo sapiens'},\n",
      " {'Collection': 'TCGA-BLCA',\n",
      "  'PatientId': 'TCGA-G2-A2EC',\n",
      "  'PatientName': 'TCGA-G2-A2EC',\n",
      "  'PatientSex': 'F',\n",
      "  'Phantom': 'NO',\n",
      "  'SpeciesCode': '337915000',\n",
      "  'SpeciesDescription': 'Homo sapiens'},\n",
      " {'Collection': 'TCGA-BLCA',\n",
      "  'EthnicGroup': 'W',\n",
      "  'PatientId': 'TCGA-G2-A2EF',\n",
      "  'PatientName': 'TCGA-G2-A2EF',\n",
      "  'PatientSex': 'M',\n",
      "  'Phantom': 'NO',\n",
      "  'SpeciesCode': '337915000',\n",
      "  'SpeciesDescription': 'Homo sapiens'},\n",
      " {'Collection': 'TCGA-BLCA',\n",
      "  'PatientId': 'TCGA-G2-A2EJ',\n",
      "  'PatientName': 'TCGA-G2-A2EJ',\n",
      "  'PatientSex': 'F',\n",
      "  'Phantom': 'NO',\n",
      "  'SpeciesCode': '337915000',\n",
      "  'SpeciesDescription': 'Homo sapiens'},\n",
      " {'Collection': 'TCGA-BLCA',\n",
      "  'EthnicGroup': 'W',\n",
      "  'PatientId': 'TCGA-G2-A2EK',\n",
      "  'PatientName': 'TCGA-G2-A2EK',\n",
      "  'PatientSex': 'M',\n",
      "  'Phantom': 'NO',\n",
      "  'SpeciesCode': '337915000',\n",
      "  'SpeciesDescription': 'Homo sapiens'}]\n"
     ]
    }
   ],
   "source": [
    "newPatients = client.getNewPatients(Collection=\"TCGA-BLCA\", Date=\"2019-01-01\")\n",
    "print(f\"Total new patients in TCGA-BLCA after 2019-01-01: {len(newPatients)}\")\n",
    "pprint(newPatients[0:5])"
   ]
  },
  {
   "cell_type": "markdown",
   "metadata": {},
   "source": [
    "# Get Studies Methods"
   ]
  },
  {
   "cell_type": "markdown",
   "metadata": {},
   "source": [
    "\n",
    "``` python\n",
    "getStudies(\n",
    "    Collection: str,            # (required)\n",
    "    PatientID: str = \"\",        # (optional)\n",
    "    StudyInstanceUID: str = \"\"  # (optional)\n",
    ") \n",
    "```"
   ]
  },
  {
   "cell_type": "code",
   "execution_count": 33,
   "metadata": {},
   "outputs": [
    {
     "name": "stdout",
     "output_type": "stream",
     "text": [
      "Total studies in TCGA-BLCA: 192\n",
      "[{'Collection': 'TCGA-BLCA',\n",
      "  'EthnicGroup': '1',\n",
      "  'PatientAge': '058Y',\n",
      "  'PatientID': 'TCGA-CU-A3QU',\n",
      "  'PatientName': 'TCGA-CU-A3QU',\n",
      "  'PatientSex': 'M',\n",
      "  'SeriesCount': 2,\n",
      "  'StudyDate': '2004-01-20 00:00:00.0',\n",
      "  'StudyDescription': 'CT ABDOMEN PELVIS W CONT',\n",
      "  'StudyInstanceUID': '1.3.6.1.4.1.14519.5.2.1.8421.4016.447463489999137002327924629563'},\n",
      " {'Collection': 'TCGA-BLCA',\n",
      "  'EthnicGroup': '1',\n",
      "  'PatientAge': '076Y',\n",
      "  'PatientID': 'TCGA-CU-A3KJ',\n",
      "  'PatientName': 'TCGA-CU-A3KJ',\n",
      "  'PatientSex': 'M',\n",
      "  'SeriesCount': 2,\n",
      "  'StudyDate': '2003-12-30 00:00:00.0',\n",
      "  'StudyDescription': 'CT ABDOMEN PELVIS W CONT',\n",
      "  'StudyInstanceUID': '1.3.6.1.4.1.14519.5.2.1.8421.4016.457123040069610055154620740646'}]\n"
     ]
    }
   ],
   "source": [
    "studies = client.getStudies(Collection = \"TCGA-BLCA\")\n",
    "print(f\"Total studies in TCGA-BLCA: {len(studies)}\")\n",
    "pprint(studies[0:2])"
   ]
  },
  {
   "cell_type": "code",
   "execution_count": 34,
   "metadata": {},
   "outputs": [
    {
     "name": "stdout",
     "output_type": "stream",
     "text": [
      "Total studies in TCGA-BLCA for patient TCGA-CU-A0YO: 2\n",
      "[{'Collection': 'TCGA-BLCA',\n",
      "  'PatientAge': '084Y',\n",
      "  'PatientID': 'TCGA-CU-A0YO',\n",
      "  'PatientName': 'TCGA-CU-A0YO',\n",
      "  'PatientSex': 'M',\n",
      "  'SeriesCount': 5,\n",
      "  'StudyDate': '2001-11-06 00:00:00.0',\n",
      "  'StudyDescription': 'Outside Read or Comparison BODY CT',\n",
      "  'StudyInstanceUID': '1.3.6.1.4.1.14519.5.2.1.8421.4016.315224324288394499015843085109'},\n",
      " {'Collection': 'TCGA-BLCA',\n",
      "  'PatientAge': '084Y',\n",
      "  'PatientID': 'TCGA-CU-A0YO',\n",
      "  'PatientName': 'TCGA-CU-A0YO',\n",
      "  'PatientSex': 'M',\n",
      "  'SeriesCount': 5,\n",
      "  'StudyDate': '2001-05-31 00:00:00.0',\n",
      "  'StudyDescription': 'Outside Read or Comparison BODY CT',\n",
      "  'StudyInstanceUID': '1.3.6.1.4.1.14519.5.2.1.8421.4016.119440479687638160287088326194'}]\n"
     ]
    }
   ],
   "source": [
    "collection = \"TCGA-BLCA\"\n",
    "patients = client.getPatientsByCollectionAndModality(Collection=collection, Modality=\"CT\")\n",
    "studies = client.getStudies(Collection = collection, PatientID = patients[3])\n",
    "print(f\"Total studies in TCGA-BLCA for patient {patients[3]}: {len(studies)}\")\n",
    "pprint(studies[0:5])"
   ]
  },
  {
   "cell_type": "markdown",
   "metadata": {},
   "source": [
    "# Get Series Methods"
   ]
  },
  {
   "cell_type": "markdown",
   "metadata": {},
   "source": [
    "### get Series Data using parameters\n",
    "\n",
    "``` python\n",
    "getSeries(\n",
    "        Collection: str = \"\", \n",
    "        PatientID: str = \"\",\n",
    "        StudyInstanceUID: str = \"\",\n",
    "        Modality: str = \"\",\n",
    "        SeriesInstanceUID: str = \"\",\n",
    "        BodyPartExamined: str = \"\",\n",
    "        ManufacturerModelName: str = \"\",\n",
    "        Manufacturer: str = \"\") \n",
    "```"
   ]
  },
  {
   "cell_type": "code",
   "execution_count": 35,
   "metadata": {},
   "outputs": [
    {
     "name": "stdout",
     "output_type": "stream",
     "text": [
      "There are 1351 series in the NSCLC Radiogenomics collection.\n",
      "First series:\n",
      "{'Collection': 'NSCLC Radiogenomics',\n",
      " 'CollectionURI': 'https://doi.org/10.7937/K9/TCIA.2017.7hs46erv',\n",
      " 'FileSize': 135541046,\n",
      " 'ImageCount': 257,\n",
      " 'LicenseName': 'Creative Commons Attribution 3.0 Unported License',\n",
      " 'LicenseURI': 'http://creativecommons.org/licenses/by/3.0/',\n",
      " 'Manufacturer': 'GE MEDICAL SYSTEMS',\n",
      " 'ManufacturerModelName': 'Discovery STE',\n",
      " 'Modality': 'CT',\n",
      " 'PatientID': 'R01-054',\n",
      " 'ProtocolName': '6.2 VA_STD_TORSO_3D',\n",
      " 'SeriesDate': '1993-10-09 00:00:00.0',\n",
      " 'SeriesDescription': 'CT_SLICES',\n",
      " 'SeriesInstanceUID': '1.3.6.1.4.1.14519.5.2.1.4334.1501.313535848942036628030417605312',\n",
      " 'SeriesNumber': 3,\n",
      " 'SoftwareVersions': 'dm09_dvctsp1.23',\n",
      " 'StudyInstanceUID': '1.3.6.1.4.1.14519.5.2.1.4334.1501.251618660025569025068340782649',\n",
      " 'TimeStamp': '2017-11-21 10:18:42.0'}\n"
     ]
    }
   ],
   "source": [
    "# Get all the series in the NSCLC Radiogenomics collection\n",
    "seriesJSON = client.getSeries(Collection=\"NSCLC Radiogenomics\")\n",
    "print(f\"There are {len(seriesJSON)} series in the NSCLC Radiogenomics collection.\")\n",
    "print(\"First series:\")\n",
    "pprint(seriesJSON[0])"
   ]
  },
  {
   "cell_type": "code",
   "execution_count": 36,
   "metadata": {},
   "outputs": [
    {
     "name": "stdout",
     "output_type": "stream",
     "text": [
      "There are 8 series in the NSCLC Radiogenomics collection for HEART.\n",
      "First series:\n",
      "{'BodyPartExamined': 'HEART',\n",
      " 'Collection': 'NSCLC Radiogenomics',\n",
      " 'CollectionURI': 'https://doi.org/10.7937/K9/TCIA.2017.7hs46erv',\n",
      " 'FileSize': 196233190,\n",
      " 'ImageCount': 372,\n",
      " 'LicenseName': 'Creative Commons Attribution 3.0 Unported License',\n",
      " 'LicenseURI': 'http://creativecommons.org/licenses/by/3.0/',\n",
      " 'Manufacturer': 'SIEMENS',\n",
      " 'Modality': 'CT',\n",
      " 'PatientID': 'AMC-015',\n",
      " 'ProtocolName': 'GATED_CHEST_CTA',\n",
      " 'SeriesDate': '1992-02-04 00:00:00.0',\n",
      " 'SeriesDescription': 'Gated Chest  1.0  B25f  BestDiast 70 %',\n",
      " 'SeriesInstanceUID': '1.3.6.1.4.1.14519.5.2.1.4334.1501.253298261882254993527951068007',\n",
      " 'SeriesNumber': 5,\n",
      " 'SoftwareVersions': 'syngo CT 2008G',\n",
      " 'StudyInstanceUID': '1.3.6.1.4.1.14519.5.2.1.4334.1501.119531128953610472040332469413',\n",
      " 'TimeStamp': '2017-12-12 13:58:34.0'}\n"
     ]
    }
   ],
   "source": [
    "# Get all the series in the NSCLC Radiogenomics collection for a given body part\n",
    "seriesbyPatientJSON = client.getSeries(Collection=\"NSCLC Radiogenomics\", BodyPartExamined=\"HEART\")\n",
    "print(f\"There are {len(seriesbyPatientJSON)} series in the NSCLC Radiogenomics collection for HEART.\")\n",
    "print(\"First series:\")\n",
    "pprint(seriesbyPatientJSON[0])"
   ]
  },
  {
   "cell_type": "markdown",
   "metadata": {},
   "source": [
    "### get New Series after a given date\n",
    "\n",
    "``` python\n",
    "getNewSeries(\n",
    "        Date: Union[str, datetime],  # (required) accepted formats:\n",
    "                                      # \"%Y-%m-%d\", \"%Y/%m/%d\", \"%Y%m%d\", \n",
    "                                      # \"%m/%d/%Y\", \"%d/%m/%Y\", \"%d-%m-%Y\"\n",
    ")"
   ]
  },
  {
   "cell_type": "code",
   "execution_count": 3,
   "metadata": {},
   "outputs": [
    {
     "name": "stdout",
     "output_type": "stream",
     "text": [
      "01/01/2024\n",
      "Total new series after 2024-01-01: 4751\n",
      "{'BodyPartExamined': 'BREAST',\n",
      " 'Collection': 'Advanced-MRI-Breast-Lesions',\n",
      " 'ImageCount': 580,\n",
      " 'Manufacturer': 'GE MEDICAL SYSTEMS',\n",
      " 'ManufacturerModelName': 'Signa HDxt',\n",
      " 'Modality': 'MR',\n",
      " 'PatientID': 'AMBL-376',\n",
      " 'SeriesDate': '2005-04-14 00:00:00.0',\n",
      " 'SeriesDescription': 'AX Sen Vibrant MultiPhase',\n",
      " 'SeriesInstanceUID': '1.3.6.1.4.1.14519.5.2.1.196168555404542578475976858220037429361',\n",
      " 'SeriesNumber': 5,\n",
      " 'SoftwareVersions': '24',\n",
      " 'StudyInstanceUID': '1.3.6.1.4.1.14519.5.2.1.201692485188138093977458202425301357349'}\n"
     ]
    }
   ],
   "source": [
    "newSeries = client.getNewSeries(Date=\"2024/01/01\")\n",
    "print(f\"Total new series after 2024-01-01: {len(newSeries)}\")\n",
    "pprint(newSeries[0])"
   ]
  },
  {
   "cell_type": "markdown",
   "metadata": {},
   "source": [
    "# download Series Methods\n",
    "\n",
    "``` python\n",
    "downloadSeries(\n",
    "    SeriesInstanceUID: Union[str, list],\n",
    "    downloadDir: str,\n",
    "    filePattern: str,\n",
    "    overwrite: bool,\n",
    "    nParallel: int)\n",
    "```"
   ]
  },
  {
   "cell_type": "code",
   "execution_count": 37,
   "metadata": {},
   "outputs": [
    {
     "name": "stdout",
     "output_type": "stream",
     "text": [
      "['1.3.6.1.4.1.14519.5.2.1.4334.1501.313535848942036628030417605312',\n",
      " '1.3.6.1.4.1.14519.5.2.1.4334.1501.180142538487513002896749276822',\n",
      " '1.3.6.1.4.1.14519.5.2.1.4334.1501.207646861287507872880088145139',\n",
      " '1.3.6.1.4.1.14519.5.2.1.4334.1501.823771517339737505191046408406',\n",
      " '1.3.6.1.4.1.14519.5.2.1.4334.1501.351960674707545278169101032360']\n"
     ]
    }
   ],
   "source": [
    "# Get all the series in the NSCLC Radiogenomics collection\n",
    "seriesJSON = client.getSeries(Collection=\"NSCLC Radiogenomics\")\n",
    "\n",
    "# first get a list of the SeriesInstanceUIDs\n",
    "seriesUIDS = [series['SeriesInstanceUID'] for series in seriesJSON]\n",
    "pprint(seriesUIDS[0:5])"
   ]
  },
  {
   "cell_type": "code",
   "execution_count": 38,
   "metadata": {},
   "outputs": [
    {
     "name": "stdout",
     "output_type": "stream",
     "text": [
      "Downloading to: /Users/bhklab/Documents/GitHub/NBIA-toolkit/docs/data\n"
     ]
    },
    {
     "name": "stderr",
     "output_type": "stream",
     "text": [
      "Downloading 5 series:   0%|          | 0/5 [00:00<?, ?it/s]"
     ]
    },
    {
     "name": "stdout",
     "output_type": "stream",
     "text": [
      "Running with 1 parallel threads\n"
     ]
    },
    {
     "name": "stderr",
     "output_type": "stream",
     "text": [
      "100%|██████████| 66/66 [00:00<00:00, 776.41it/s]\n",
      "Downloading 5 series:  20%|██        | 1/5 [00:01<00:05,  1.44s/it]"
     ]
    },
    {
     "name": "stdout",
     "output_type": "stream",
     "text": [
      "Running with 1 parallel threads\n"
     ]
    },
    {
     "name": "stderr",
     "output_type": "stream",
     "text": [
      "100%|██████████| 257/257 [00:00<00:00, 701.01it/s]\n",
      "Downloading 5 series:  40%|████      | 2/5 [00:03<00:05,  1.95s/it]"
     ]
    },
    {
     "name": "stdout",
     "output_type": "stream",
     "text": [
      "Running with 1 parallel threads\n"
     ]
    },
    {
     "name": "stderr",
     "output_type": "stream",
     "text": [
      "100%|██████████| 257/257 [00:00<00:00, 726.08it/s]\n",
      "Downloading 5 series:  60%|██████    | 3/5 [00:04<00:02,  1.25s/it]"
     ]
    },
    {
     "name": "stdout",
     "output_type": "stream",
     "text": [
      "Running with 1 parallel threads\n"
     ]
    },
    {
     "name": "stderr",
     "output_type": "stream",
     "text": [
      "100%|██████████| 257/257 [00:00<00:00, 821.97it/s]\n",
      "Downloading 5 series:  80%|████████  | 4/5 [00:05<00:01,  1.12s/it]"
     ]
    },
    {
     "name": "stdout",
     "output_type": "stream",
     "text": [
      "Running with 1 parallel threads\n"
     ]
    },
    {
     "name": "stderr",
     "output_type": "stream",
     "text": [
      "100%|██████████| 257/257 [00:00<00:00, 1027.74it/s]\n",
      "Downloading 5 series: 100%|██████████| 5/5 [00:16<00:00,  3.36s/it]"
     ]
    },
    {
     "name": "stdout",
     "output_type": "stream",
     "text": [
      "['R01-054']\n"
     ]
    },
    {
     "name": "stderr",
     "output_type": "stream",
     "text": [
      "\n"
     ]
    }
   ],
   "source": [
    "# call client.downloadSeries() on each SeriesInstanceUID\n",
    "import os\n",
    "downloadDir = \"./data\"\n",
    "os.makedirs(downloadDir, exist_ok=True)\n",
    "print(\"Downloading to: \" + os.path.abspath(downloadDir))\n",
    "\n",
    "cores = 4   # number of parallel downloads\n",
    "client.downloadSeries(\n",
    "    seriesUIDS[0:5], downloadDir, overwrite=True, nParallel=cores)\n",
    "    \n",
    "pprint(os.listdir(downloadDir))\n",
    "    "
   ]
  },
  {
   "cell_type": "markdown",
   "metadata": {},
   "source": [
    "### Configure File names during download\n",
    "\n",
    "Due to the unique nature of the data in NBIA, the file names are not always consistent.\n",
    "\n",
    "To configure the file names during download you can pass in a parameter called `filePattern` to the `downloadSeries` method which is used by the `DICOMSorter`. For more information on how to configure the `filePattern` see the `nbiatoolkit.DICOMSorter()` class.\n",
    "\n",
    "The filePattern is a string of DICOM tags indicated by a `%` that are extracted from each DICOM file metadata and used to create the file name: \n",
    "- i.e `%PatientName%_%SeriesInstanceUID%.dcm` will create a file name with the PatientName and SeriesInstanceUID.\n",
    "  - note: the UIDs will be shortened to the final 5 characters to avoid long file names.\n",
    "\n",
    "The default filePattern is : `%PatientName/%StudyDescription-%StudyDate/%SeriesNumber-%SeriesDescription-%SeriesInstanceUID/%InstanceNumber.dcm`. This will create the following tree structure:\n",
    "\n",
    "``` json\n",
    "PatientName\n",
    "└── StudyDescription-StudyDate\n",
    "    └── SeriesNumber-SeriesDescription-SeriesInstanceUID\n",
    "        └── InstanceNumber.dcm\n",
    "```"
   ]
  },
  {
   "cell_type": "code",
   "execution_count": 39,
   "metadata": {},
   "outputs": [
    {
     "name": "stderr",
     "output_type": "stream",
     "text": [
      "Downloading 5 series:   0%|          | 0/5 [00:00<?, ?it/s]"
     ]
    },
    {
     "name": "stdout",
     "output_type": "stream",
     "text": [
      "Running with 1 parallel threads\n"
     ]
    },
    {
     "name": "stderr",
     "output_type": "stream",
     "text": [
      "100%|██████████| 66/66 [00:00<00:00, 794.56it/s]\n",
      "Downloading 5 series:  20%|██        | 1/5 [00:00<00:02,  1.37it/s]"
     ]
    },
    {
     "name": "stdout",
     "output_type": "stream",
     "text": [
      "Running with 1 parallel threads\n"
     ]
    },
    {
     "name": "stderr",
     "output_type": "stream",
     "text": []
    },
    {
     "name": "stdout",
     "output_type": "stream",
     "text": [
      "Running with 1 parallel threads\n"
     ]
    },
    {
     "name": "stderr",
     "output_type": "stream",
     "text": [
      "\n",
      "\u001b[A"
     ]
    },
    {
     "name": "stdout",
     "output_type": "stream",
     "text": [
      "Running with 1 parallel threads\n"
     ]
    },
    {
     "name": "stderr",
     "output_type": "stream",
     "text": [
      "\n",
      "\n",
      "\u001b[A\u001b[A\n",
      "\u001b[A\n",
      "\n",
      "\u001b[A\u001b[A\n",
      "\u001b[A\n",
      "\n",
      "\u001b[A\u001b[A\n",
      "\u001b[A\n",
      "\n",
      "\u001b[A\u001b[A\n",
      "\u001b[A\n",
      "\n",
      "\u001b[A\u001b[A\n",
      "\u001b[A\n",
      "\n",
      "\u001b[A\u001b[A\n",
      "100%|██████████| 257/257 [00:01<00:00, 210.34it/s]\n",
      "Downloading 5 series:  40%|████      | 2/5 [00:02<00:04,  1.58s/it]\n",
      "\n",
      "\u001b[A\u001b[A\n",
      "\u001b[A\n",
      "\n",
      "\u001b[A\u001b[A\n",
      "\u001b[A\n",
      "\n",
      "\u001b[A\u001b[A\n",
      "\u001b[A\n",
      "\n",
      "\u001b[A\u001b[A\n",
      "\u001b[A\n",
      "\n",
      "\u001b[A\u001b[A\n",
      "\u001b[A\n",
      "\n",
      "100%|██████████| 257/257 [00:01<00:00, 194.57it/s]\n",
      "Downloading 5 series:  60%|██████    | 3/5 [00:03<00:02,  1.12s/it]\n",
      "\n",
      "100%|██████████| 257/257 [00:01<00:00, 198.69it/s]\n"
     ]
    },
    {
     "name": "stdout",
     "output_type": "stream",
     "text": [
      "Running with 1 parallel threads\n"
     ]
    },
    {
     "name": "stderr",
     "output_type": "stream",
     "text": [
      "100%|██████████| 257/257 [00:00<00:00, 1058.41it/s]\n",
      "Downloading 5 series: 100%|██████████| 5/5 [00:12<00:00,  2.48s/it]\n"
     ]
    },
    {
     "data": {
      "text/plain": [
       "True"
      ]
     },
     "execution_count": 39,
     "metadata": {},
     "output_type": "execute_result"
    }
   ],
   "source": [
    "client.downloadSeries(\n",
    "    seriesUIDS[0:5], \n",
    "    downloadDir, \n",
    "    filePattern=\"%PatientName/%SeriesNumber-%SeriesInstanceUID/%InstanceNumber-%SOPInstanceUID.dcm\",\n",
    "    overwrite=True, nParallel=5)"
   ]
  },
  {
   "cell_type": "code",
   "execution_count": null,
   "metadata": {},
   "outputs": [],
   "source": []
  }
 ],
 "metadata": {
  "kernelspec": {
   "display_name": "Python 3 (ipykernel)",
   "language": "python",
   "name": "python3"
  },
  "language_info": {
   "codemirror_mode": {
    "name": "ipython",
    "version": 3
   },
   "file_extension": ".py",
   "mimetype": "text/x-python",
   "name": "python",
   "nbconvert_exporter": "python",
   "pygments_lexer": "ipython3",
   "version": "3.12.1"
  }
 },
 "nbformat": 4,
 "nbformat_minor": 2
}
