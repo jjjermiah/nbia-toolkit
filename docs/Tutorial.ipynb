{
 "cells": [
  {
   "cell_type": "markdown",
   "metadata": {},
   "source": [
    "# TUTORIAL"
   ]
  },
  {
   "cell_type": "markdown",
   "metadata": {},
   "source": [
    "## Setup \n",
    "\n",
    "By default the client will use the Public API with the Guest Login credentials.\n",
    "from the nbia which has access to all public data. \n",
    "\n",
    "To use your own credentials you can pass them in as parameters to the client using:\n",
    "\n",
    " `NBIAClient(username=\"YOUR_USERNAME\", password=\"YOUR_PASSWORD\")`"
   ]
  },
  {
   "cell_type": "code",
   "execution_count": 3,
   "metadata": {
    "tags": [
     "hide_output",
     "hide-output"
    ]
   },
   "outputs": [
    {
     "name": "stdout",
     "output_type": "stream",
     "text": [
      "Requirement already satisfied: nbiatoolkit in /Users/bhklab/anaconda3/envs/R/lib/python3.12/site-packages (0.10.9)\n",
      "Requirement already satisfied: pydicom<3.0.0,>=2.4.3 in /Users/bhklab/anaconda3/envs/R/lib/python3.12/site-packages (from nbiatoolkit) (2.4.4)\n",
      "Requirement already satisfied: requests==2.31.0 in /Users/bhklab/anaconda3/envs/R/lib/python3.12/site-packages (from nbiatoolkit) (2.31.0)\n",
      "Requirement already satisfied: tqdm<5.0.0,>=4.66.1 in /Users/bhklab/anaconda3/envs/R/lib/python3.12/site-packages (from nbiatoolkit) (4.66.1)\n",
      "Requirement already satisfied: charset-normalizer<4,>=2 in /Users/bhklab/anaconda3/envs/R/lib/python3.12/site-packages (from requests==2.31.0->nbiatoolkit) (3.3.2)\n",
      "Requirement already satisfied: idna<4,>=2.5 in /Users/bhklab/anaconda3/envs/R/lib/python3.12/site-packages (from requests==2.31.0->nbiatoolkit) (3.6)\n",
      "Requirement already satisfied: urllib3<3,>=1.21.1 in /Users/bhklab/anaconda3/envs/R/lib/python3.12/site-packages (from requests==2.31.0->nbiatoolkit) (2.1.0)\n",
      "Requirement already satisfied: certifi>=2017.4.17 in /Users/bhklab/anaconda3/envs/R/lib/python3.12/site-packages (from requests==2.31.0->nbiatoolkit) (2023.11.17)\n"
     ]
    }
   ],
   "source": [
    "# Install nbiatoolkit using pip\n",
    "\n",
    "!pip install nbiatoolkit;"
   ]
  },
  {
   "cell_type": "code",
   "execution_count": 1,
   "metadata": {},
   "outputs": [],
   "source": [
    "from nbiatoolkit import NBIAClient\n",
    "from pprint import pprint\n",
    "\n",
    "# Instantiate the client. \n",
    "client = NBIAClient(log_level='info')\n"
   ]
  },
  {
   "cell_type": "code",
   "execution_count": 3,
   "metadata": {},
   "outputs": [],
   "source": [
    "# import nbiatoolkit \n",
    "# TODO::implement method forprint(nbiatoolkit.__version__)"
   ]
  },
  {
   "cell_type": "markdown",
   "metadata": {},
   "source": [
    "## Get Collection Methods"
   ]
  },
  {
   "cell_type": "markdown",
   "metadata": {},
   "source": [
    "### get list of collection (names only)\n",
    "`getCollections(prefix: str = \"\")`"
   ]
  },
  {
   "cell_type": "code",
   "execution_count": 4,
   "metadata": {},
   "outputs": [
    {
     "name": "stdout",
     "output_type": "stream",
     "text": [
      "Total collections:  123\n",
      "['4D-Lung', 'ACRIN-6698', 'ACRIN-Contralateral-Breast-MR', 'ACRIN-FLT-Breast', 'ACRIN-NSCLC-FDG-PET']\n"
     ]
    }
   ],
   "source": [
    "collections = client.getCollections()\n",
    "print(\"Total collections: \", len(collections))\n",
    "print(collections[0:5])"
   ]
  },
  {
   "cell_type": "code",
   "execution_count": 5,
   "metadata": {},
   "outputs": [
    {
     "name": "stdout",
     "output_type": "stream",
     "text": [
      "['TCGA-BLCA', 'TCGA-BRCA', 'TCGA-CESC', 'TCGA-COAD', 'TCGA-ESCA', 'TCGA-KICH', 'TCGA-KIRC', 'TCGA-KIRP', 'TCGA-LIHC', 'TCGA-LUAD', 'TCGA-LUSC', 'TCGA-OV', 'TCGA-PRAD', 'TCGA-READ', 'TCGA-SARC', 'TCGA-STAD', 'TCGA-THCA', 'TCGA-UCEC']\n"
     ]
    }
   ],
   "source": [
    "collections = client.getCollections(prefix = \"TCGA\")\n",
    "print(collections)"
   ]
  },
  {
   "cell_type": "markdown",
   "metadata": {},
   "source": [
    "### get Counts of Patients for each collection\n",
    "`getCollectionPatientCount(prefx: str = \"\")`"
   ]
  },
  {
   "cell_type": "code",
   "execution_count": 6,
   "metadata": {},
   "outputs": [
    {
     "name": "stdout",
     "output_type": "stream",
     "text": [
      "[{'Collection': '4D-Lung', 'PatientCount': 20},\n",
      " {'Collection': 'ACRIN-6698', 'PatientCount': 385},\n",
      " {'Collection': 'ACRIN-Contralateral-Breast-MR', 'PatientCount': 984},\n",
      " {'Collection': 'ACRIN-FLT-Breast', 'PatientCount': 83},\n",
      " {'Collection': 'ACRIN-NSCLC-FDG-PET', 'PatientCount': 242}]\n"
     ]
    }
   ],
   "source": [
    "collectionsPatientCount = client.getCollectionPatientCount()\n",
    "pprint(collectionsPatientCount[0:5])"
   ]
  },
  {
   "cell_type": "code",
   "execution_count": 7,
   "metadata": {},
   "outputs": [
    {
     "name": "stdout",
     "output_type": "stream",
     "text": [
      "[{'Collection': 'TCGA-BLCA', 'PatientCount': 120},\n",
      " {'Collection': 'TCGA-BRCA', 'PatientCount': 139},\n",
      " {'Collection': 'TCGA-CESC', 'PatientCount': 54},\n",
      " {'Collection': 'TCGA-COAD', 'PatientCount': 25},\n",
      " {'Collection': 'TCGA-ESCA', 'PatientCount': 16},\n",
      " {'Collection': 'TCGA-KICH', 'PatientCount': 15},\n",
      " {'Collection': 'TCGA-KIRC', 'PatientCount': 267},\n",
      " {'Collection': 'TCGA-KIRP', 'PatientCount': 33},\n",
      " {'Collection': 'TCGA-LIHC', 'PatientCount': 97},\n",
      " {'Collection': 'TCGA-LUAD', 'PatientCount': 69},\n",
      " {'Collection': 'TCGA-LUSC', 'PatientCount': 37},\n",
      " {'Collection': 'TCGA-OV', 'PatientCount': 143},\n",
      " {'Collection': 'TCGA-PRAD', 'PatientCount': 14},\n",
      " {'Collection': 'TCGA-READ', 'PatientCount': 3},\n",
      " {'Collection': 'TCGA-SARC', 'PatientCount': 5},\n",
      " {'Collection': 'TCGA-STAD', 'PatientCount': 46},\n",
      " {'Collection': 'TCGA-THCA', 'PatientCount': 6},\n",
      " {'Collection': 'TCGA-UCEC', 'PatientCount': 65}]\n",
      "Collection with max PatientCount:  {'Collection': 'TCGA-KIRC', 'PatientCount': 267}\n"
     ]
    }
   ],
   "source": [
    "collectionsPatientCount = client.getCollectionPatientCount(prefix=\"TCGA\")\n",
    "pprint(collectionsPatientCount)\n",
    "\n",
    "# get the collection with max PatientCount\n",
    "print(\"Collection with max PatientCount: \", max(collectionsPatientCount, key=lambda x:x['PatientCount']))"
   ]
  },
  {
   "cell_type": "markdown",
   "metadata": {},
   "source": [
    "### get Counts of Patients grouped by Body Parts\n",
    "`getBodyPartCounts(collection: str = \"\", modality: str = \"\")`"
   ]
  },
  {
   "cell_type": "code",
   "execution_count": 8,
   "metadata": {},
   "outputs": [
    {
     "name": "stdout",
     "output_type": "stream",
     "text": [
      "Total Number of body parts:60\n",
      "First 5 body parts:\n",
      "[{'BodyPartExamined': 'NOT SPECIFIED', 'Count': '7839'},\n",
      " {'BodyPartExamined': 'ABDOMEN', 'Count': '1731'},\n",
      " {'BodyPartExamined': 'ABDOMEN CAVIT', 'Count': '2'},\n",
      " {'BodyPartExamined': 'ABDOMENPELVIC', 'Count': '2'},\n",
      " {'BodyPartExamined': 'ABDOMENPELVIS', 'Count': '50'}]\n"
     ]
    }
   ],
   "source": [
    "bodypart_count = client.getBodyPartCounts()\n",
    "print(\"Total Number of body parts:\" + str(len(bodypart_count)))\n",
    "\n",
    "print(\"First 5 body parts:\")\n",
    "pprint(bodypart_count[0:5])"
   ]
  },
  {
   "cell_type": "code",
   "execution_count": 9,
   "metadata": {},
   "outputs": [
    {
     "name": "stdout",
     "output_type": "stream",
     "text": [
      "Total Number of body parts:1\n",
      "Number of patients for each body part in 4D-Lung collection:\n",
      "[{'BodyPartExamined': 'LUNG', 'Count': '20'}]\n"
     ]
    }
   ],
   "source": [
    "bodypart_count = client.getBodyPartCounts(Collection = '4D-Lung')\n",
    "print(\"Total Number of body parts:\" + str(len(bodypart_count)))\n",
    "\n",
    "print(\"Number of patients for each body part in 4D-Lung collection:\")\n",
    "pprint(bodypart_count)"
   ]
  },
  {
   "cell_type": "code",
   "execution_count": 10,
   "metadata": {},
   "outputs": [
    {
     "name": "stdout",
     "output_type": "stream",
     "text": [
      "Total Number of body parts:5\n",
      "Number of patients for each body part in 4D-Lung collection:\n",
      "[{'BodyPartExamined': 'NOT SPECIFIED', 'Count': '194'},\n",
      " {'BodyPartExamined': 'ABDOMEN', 'Count': '11'},\n",
      " {'BodyPartExamined': 'CHEST', 'Count': '54'},\n",
      " {'BodyPartExamined': 'HEART', 'Count': '2'},\n",
      " {'BodyPartExamined': 'THORAX', 'Count': '1'}]\n"
     ]
    }
   ],
   "source": [
    "bodypart_count = client.getBodyPartCounts(Collection = 'NSCLC Radiogenomics', Modality='CT')\n",
    "print(\"Total Number of body parts:\" + str(len(bodypart_count)))\n",
    "\n",
    "print(\"Number of patients for each body part in 4D-Lung collection:\")\n",
    "pprint(bodypart_count)"
   ]
  },
  {
   "cell_type": "markdown",
   "metadata": {},
   "source": [
    "## Get Patient Methods"
   ]
  },
  {
   "cell_type": "markdown",
   "metadata": {},
   "source": [
    "#### get Patient IDs by Collection and Modality\n",
    "`getPatientData(collection: str, modality: str)`"
   ]
  },
  {
   "cell_type": "code",
   "execution_count": 11,
   "metadata": {},
   "outputs": [
    {
     "name": "stdout",
     "output_type": "stream",
     "text": [
      "['100_HM10395', '101_HM10395', '102_HM10395', '103_HM10395', '104_HM10395', '105_HM10395', '106_HM10395', '107_HM10395', '108_HM10395', '109_HM10395', '110_HM10395', '111_HM10395', '112_HM10395', '113_HM10395', '114_HM10395', '115_HM10395', '116_HM10395', '117_HM10395', '118_HM10395', '119_HM10395']\n"
     ]
    }
   ],
   "source": [
    "patients = client.getPatients(Collection=\"4D-Lung\", Modality=\"CT\")\n",
    "print(patients)"
   ]
  },
  {
   "cell_type": "markdown",
   "metadata": {},
   "source": [
    "## Get Series Methods"
   ]
  },
  {
   "cell_type": "markdown",
   "metadata": {},
   "source": [
    "### get Series Data using parameters\n",
    "\n",
    "``` python\n",
    "getSeries(\n",
    "        Collection: str = \"\", \n",
    "        PatientID: str = \"\",\n",
    "        StudyInstanceUID: str = \"\",\n",
    "        Modality: str = \"\",\n",
    "        SeriesInstanceUID: str = \"\",\n",
    "        BodyPartExamined: str = \"\",\n",
    "        ManufacturerModelName: str = \"\",\n",
    "        Manufacturer: str = \"\") \n",
    "```"
   ]
  },
  {
   "cell_type": "code",
   "execution_count": 12,
   "metadata": {},
   "outputs": [
    {
     "name": "stdout",
     "output_type": "stream",
     "text": [
      "There are 1351 series in the NSCLC Radiogenomics collection.\n",
      "First series:\n",
      "{'Collection': 'NSCLC Radiogenomics',\n",
      " 'CollectionURI': 'https://doi.org/10.7937/K9/TCIA.2017.7hs46erv',\n",
      " 'FileSize': 146022934,\n",
      " 'ImageCount': 277,\n",
      " 'LicenseName': 'Creative Commons Attribution 3.0 Unported License',\n",
      " 'LicenseURI': 'http://creativecommons.org/licenses/by/3.0/',\n",
      " 'Manufacturer': 'GE MEDICAL SYSTEMS',\n",
      " 'ManufacturerModelName': 'LightSpeed16',\n",
      " 'Modality': 'CT',\n",
      " 'PatientID': 'R01-016',\n",
      " 'ProtocolName': '5.1 CT CHEST ROUTINE',\n",
      " 'SeriesDate': '1990-10-16 00:00:00.0',\n",
      " 'SeriesDescription': 'Recon 3: CT CHEST W/O',\n",
      " 'SeriesInstanceUID': '1.3.6.1.4.1.14519.5.2.1.4334.1501.447728746190490431768087181101',\n",
      " 'SeriesNumber': 4,\n",
      " 'SoftwareVersions': 'LightSpeedverrel',\n",
      " 'StudyInstanceUID': '1.3.6.1.4.1.14519.5.2.1.4334.1501.162279367121844086709629964588',\n",
      " 'TimeStamp': '2017-12-12 12:58:26.0'}\n"
     ]
    }
   ],
   "source": [
    "# Get all the series in the NSCLC Radiogenomics collection\n",
    "seriesJSON = client.getSeries(Collection=\"NSCLC Radiogenomics\")\n",
    "print(f\"There are {len(seriesJSON)} series in the NSCLC Radiogenomics collection.\")\n",
    "print(\"First series:\")\n",
    "pprint(seriesJSON[0])"
   ]
  },
  {
   "cell_type": "code",
   "execution_count": 13,
   "metadata": {},
   "outputs": [
    {
     "name": "stdout",
     "output_type": "stream",
     "text": [
      "There are 8 series in the NSCLC Radiogenomics collection for HEART.\n",
      "First series:\n",
      "{'BodyPartExamined': 'HEART',\n",
      " 'Collection': 'NSCLC Radiogenomics',\n",
      " 'CollectionURI': 'https://doi.org/10.7937/K9/TCIA.2017.7hs46erv',\n",
      " 'FileSize': 196233190,\n",
      " 'ImageCount': 372,\n",
      " 'LicenseName': 'Creative Commons Attribution 3.0 Unported License',\n",
      " 'LicenseURI': 'http://creativecommons.org/licenses/by/3.0/',\n",
      " 'Manufacturer': 'SIEMENS',\n",
      " 'Modality': 'CT',\n",
      " 'PatientID': 'AMC-015',\n",
      " 'ProtocolName': 'GATED_CHEST_CTA',\n",
      " 'SeriesDate': '1992-02-04 00:00:00.0',\n",
      " 'SeriesDescription': 'Gated Chest  1.0  B25f  BestDiast 70 %',\n",
      " 'SeriesInstanceUID': '1.3.6.1.4.1.14519.5.2.1.4334.1501.253298261882254993527951068007',\n",
      " 'SeriesNumber': 5,\n",
      " 'SoftwareVersions': 'syngo CT 2008G',\n",
      " 'StudyInstanceUID': '1.3.6.1.4.1.14519.5.2.1.4334.1501.119531128953610472040332469413',\n",
      " 'TimeStamp': '2017-12-12 13:58:34.0'}\n"
     ]
    }
   ],
   "source": [
    "# Get all the series in the NSCLC Radiogenomics collection for a given body part\n",
    "seriesbyPatientJSON = client.getSeries(Collection=\"NSCLC Radiogenomics\", BodyPartExamined=\"HEART\")\n",
    "print(f\"There are {len(seriesbyPatientJSON)} series in the NSCLC Radiogenomics collection for HEART.\")\n",
    "print(\"First series:\")\n",
    "pprint(seriesbyPatientJSON[0])"
   ]
  },
  {
   "cell_type": "markdown",
   "metadata": {},
   "source": [
    "## download Series Methods\n",
    "``` python\n",
    "downloadSeries(\n",
    "    SeriesInstanceUID: Union[str, list],\n",
    "    downloadDir: str,\n",
    "    filePattern: str,\n",
    "    overwrite: bool,\n",
    "    nParallel: int)\n",
    "```"
   ]
  },
  {
   "cell_type": "code",
   "execution_count": 2,
   "metadata": {},
   "outputs": [
    {
     "name": "stdout",
     "output_type": "stream",
     "text": [
      "['1.3.6.1.4.1.14519.5.2.1.4334.1501.447728746190490431768087181101',\n",
      " '1.3.6.1.4.1.14519.5.2.1.4334.1501.322979353264523657170838529817',\n",
      " '1.3.6.1.4.1.14519.5.2.1.4334.1501.240772414306783411390403639800',\n",
      " '1.3.6.1.4.1.14519.5.2.1.4334.1501.173425581038606308807499332185',\n",
      " '1.3.6.1.4.1.14519.5.2.1.4334.1501.137861564599845711151768978695']\n"
     ]
    }
   ],
   "source": [
    "# Get all the series in the NSCLC Radiogenomics collection\n",
    "seriesJSON = client.getSeries(Collection=\"NSCLC Radiogenomics\")\n",
    "\n",
    "# first get a list of the SeriesInstanceUIDs\n",
    "seriesUIDS = [series['SeriesInstanceUID'] for series in seriesJSON]\n",
    "pprint(seriesUIDS[0:5])"
   ]
  },
  {
   "cell_type": "code",
   "execution_count": 3,
   "metadata": {},
   "outputs": [
    {
     "name": "stdout",
     "output_type": "stream",
     "text": [
      "Downloading to: /Users/bhklab/Documents/GitHub/NBIA-toolkit/docs/data\n"
     ]
    },
    {
     "name": "stderr",
     "output_type": "stream",
     "text": [
      "Downloading 5 series:   0%|          | 0/5 [00:00<?, ?it/s]"
     ]
    },
    {
     "name": "stderr",
     "output_type": "stream",
     "text": [
      "Downloading 5 series: 100%|██████████| 5/5 [00:26<00:00,  5.31s/it]"
     ]
    },
    {
     "name": "stdout",
     "output_type": "stream",
     "text": [
      "['R01-016',\n",
      " 'P100',\n",
      " 'R01-010',\n",
      " 'R01-019',\n",
      " 'R01-044',\n",
      " 'R01-022',\n",
      " 'UnknownCollection']\n"
     ]
    },
    {
     "name": "stderr",
     "output_type": "stream",
     "text": [
      "\n"
     ]
    }
   ],
   "source": [
    "# call client.downloadSeries() on each SeriesInstanceUID\n",
    "import os\n",
    "downloadDir = \"./data\"\n",
    "os.makedirs(downloadDir, exist_ok=True)\n",
    "print(\"Downloading to: \" + os.path.abspath(downloadDir))\n",
    "\n",
    "cores = 4   # number of parallel downloads\n",
    "client.downloadSeries(\n",
    "    seriesUIDS[0:5], downloadDir, overwrite=True, nParallel=cores)\n",
    "    \n",
    "pprint(os.listdir(downloadDir))\n",
    "    "
   ]
  },
  {
   "cell_type": "markdown",
   "metadata": {},
   "source": [
    "### Configure File names during download\n",
    "\n",
    "Due to the unique nature of the data in NBIA, the file names are not always consistent.\n",
    "\n",
    "To configure the file names during download you can pass in a parameter called `filePattern` to the `downloadSeries` method which is used by the `DICOMSorter`. For more information on how to configure the `filePattern` see the `nbiatoolkit.DICOMSorter()` class.\n",
    "\n",
    "The filePattern is a string of DICOM tags indicated by a `%` that are extracted from each DICOM file metadata and used to create the file name: \n",
    "- i.e `%PatientName%_%SeriesInstanceUID%.dcm` will create a file name with the PatientName and SeriesInstanceUID.\n",
    "  - note: the UIDs will be shortened to the final 5 characters to avoid long file names.\n",
    "\n",
    "The default filePattern is : `%PatientName/%StudyDescription-%StudyDate/%SeriesNumber-%SeriesDescription-%SeriesInstanceUID/%InstanceNumber.dcm`. This will create the following tree structure:\n",
    "\n",
    "``` json\n",
    "PatientName\n",
    "└── StudyDescription-StudyDate\n",
    "    └── SeriesNumber-SeriesDescription-SeriesInstanceUID\n",
    "        └── InstanceNumber.dcm\n",
    "```"
   ]
  },
  {
   "cell_type": "code",
   "execution_count": 5,
   "metadata": {},
   "outputs": [
    {
     "name": "stderr",
     "output_type": "stream",
     "text": [
      "Downloading 5 series: 100%|██████████| 5/5 [00:18<00:00,  3.69s/it]\n"
     ]
    },
    {
     "data": {
      "text/plain": [
       "True"
      ]
     },
     "execution_count": 5,
     "metadata": {},
     "output_type": "execute_result"
    }
   ],
   "source": [
    "client.downloadSeries(\n",
    "    seriesUIDS[0:5], \n",
    "    downloadDir, \n",
    "    filePattern=\"%PatientName/%SeriesNumber-%SeriesInstanceUID/%InstanceNumber-%SOPInstanceUID.dcm\",\n",
    "    overwrite=True, nParallel=5)"
   ]
  },
  {
   "cell_type": "code",
   "execution_count": null,
   "metadata": {},
   "outputs": [],
   "source": []
  }
 ],
 "metadata": {
  "kernelspec": {
   "display_name": "Python 3 (ipykernel)",
   "language": "python",
   "name": "python3"
  },
  "language_info": {
   "codemirror_mode": {
    "name": "ipython",
    "version": 3
   },
   "file_extension": ".py",
   "mimetype": "text/x-python",
   "name": "python",
   "nbconvert_exporter": "python",
   "pygments_lexer": "ipython3",
   "version": "3.12.1"
  }
 },
 "nbformat": 4,
 "nbformat_minor": 2
}
